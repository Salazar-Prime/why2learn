{
 "cells": [
  {
   "cell_type": "code",
   "execution_count": 7,
   "id": "115a193c",
   "metadata": {},
   "outputs": [],
   "source": [
    "# %matplotlib inline\n",
    "import matplotlib.pyplot as plt\n",
    "\n",
    "import torch\n",
    "# import torchvision\n",
    "# import torch.nn as nn\n",
    "from torch.utils.data import DataLoader\n",
    "# from torchvision.io import read_image\n",
    "import torchvision.transforms as tvt\n",
    "# import torch.nn.functional as F\n",
    "\n",
    "import numpy as np\n",
    "import seaborn as sns\n",
    "import time\n",
    "import pickle\n",
    "# import os, glob\n",
    "\n",
    "# User imports\n",
    "from dataLoader import dataLoader\n",
    "from model import mynet"
   ]
  },
  {
   "cell_type": "code",
   "execution_count": 8,
   "id": "0e64ce42",
   "metadata": {},
   "outputs": [],
   "source": [
    "def run_code_for_validation(net, valDataLoader, classes):\n",
    "    net = net.to(device)\n",
    "    criterion = torch.nn.CrossEntropyLoss()\n",
    "    confusion = np.zeros((len(classes),len(classes)))\n",
    "    correct = 0\n",
    "    total = 0\n",
    "    for i,data in enumerate(valDataLoader):\n",
    "        (inputs, labels) = data\n",
    "        inputs = inputs.to(device)\n",
    "        labels = labels.to(device)\n",
    "        # print(labels)\n",
    "        outputs = net(inputs)\n",
    "        # print(outputs)\n",
    "        prediction = [torch.argmax(x) for x in outputs]\n",
    "        \n",
    "        #  torch.argmax(outputs, dim=1)\n",
    "        \n",
    "        for j, gt in enumerate(labels):\n",
    "            if gt == prediction[j]:\n",
    "                correct += 1\n",
    "            confusion[gt][prediction[j]] +=1\n",
    "    return confusion, correct"
   ]
  },
  {
   "cell_type": "code",
   "execution_count": 9,
   "id": "292e9d18",
   "metadata": {},
   "outputs": [
    {
     "name": "stdout",
     "output_type": "stream",
     "text": [
      "['airplane' 'boat' 'cat' 'dog' 'elephant' 'giraffe' 'horse' 'refrigerator'\n",
      " 'train' 'truck']\n",
      "['airplane' 'boat' 'cat' 'dog' 'elephant' 'giraffe' 'horse' 'refrigerator'\n",
      " 'train' 'truck']\n"
     ]
    },
    {
     "data": {
      "text/plain": [
       "<AxesSubplot:>"
      ]
     },
     "execution_count": 9,
     "metadata": {},
     "output_type": "execute_result"
    },
    {
     "data": {
      "image/png": "[encoded data removed]",
      "text/plain": [
       "<Figure size 432x288 with 2 Axes>"
      ]
     },
     "metadata": {
      "needs_background": "light"
     },
     "output_type": "display_data"
    }
   ],
   "source": [
    "if torch.cuda.is_available():\n",
    "    device = torch.device(\"cuda:0\")\n",
    "else:\n",
    "    device = torch.device(\"cpu\")\n",
    "\n",
    "batch=256\n",
    "dataPath = \"../hw04_coco_data/Val\"\n",
    "transform = tvt.Compose([tvt.ToTensor(), tvt.Normalize((0.5,0.5, 0.5), (0.5, 0.5, 0.5))])            \n",
    "           \n",
    "dt = dataLoader(dataPath,transform)\n",
    "valDataLoader = DataLoader(dataset = dt, batch_size = batch, shuffle = False, num_workers = 16)\n",
    "print(dt.classes)\n",
    "net = torch.load(\"../saves/net1.pth\")\n",
    "net.eval()\n",
    "confusion1,correct1 = run_code_for_validation(net, valDataLoader, dt.classes)\n",
    "sns.heatmap(confusion1)\n",
    "# net = torch.load(\"../saves/net2.pth\")\n",
    "# confusion2 = run_code_for_validation(net, valDataLoader, dt.classes)\n",
    "# net = torch.load(\"../saves/net3.pth\")\n",
    "# confusion3 = run_code_for_validation(net, valDataLoader, dt.classes)\n"
   ]
  },
  {
   "cell_type": "code",
   "execution_count": null,
   "id": "55b5ae6a",
   "metadata": {},
   "outputs": [],
   "source": []
  }
 ],
 "metadata": {
  "kernelspec": {
   "display_name": "Python 3 (ipykernel)",
   "language": "python",
   "name": "python3"
  },
  "language_info": {
   "codemirror_mode": {
    "name": "ipython",
    "version": 3
   },
   "file_extension": ".py",
   "mimetype": "text/x-python",
   "name": "python",
   "nbconvert_exporter": "python",
   "pygments_lexer": "ipython3",
   "version": "3.7.11"
  }
 },
 "nbformat": 4,
 "nbformat_minor": 5
}
