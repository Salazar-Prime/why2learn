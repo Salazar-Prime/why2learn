{
 "cells": [
  {
   "cell_type": "code",
   "execution_count": 1,
   "id": "115a193c",
   "metadata": {},
   "outputs": [],
   "source": [
    "# %matplotlib inline\n",
    "import matplotlib.pyplot as plt\n",
    "\n",
    "import torch\n",
    "# import torchvision\n",
    "# import torch.nn as nn\n",
    "from torch.utils.data import DataLoader\n",
    "# from torchvision.io import read_image\n",
    "import torchvision.transforms as tvt\n",
    "# import torch.nn.functional as F\n",
    "\n",
    "import numpy as np\n",
    "import time\n",
    "import pickle\n",
    "# import os, glob\n",
    "\n",
    "# User imports\n",
    "from dataLoader import dataLoader\n",
    "from model import mynet"
   ]
  },
  {
   "cell_type": "code",
   "execution_count": 2,
   "id": "0e64ce42",
   "metadata": {},
   "outputs": [],
   "source": [
    "def run_code_for_training(net, train_data_loader):\n",
    "    net = net.to(device)\n",
    "    criterion = torch.nn.CrossEntropyLoss()\n",
    "    optimizer = torch.optim.SGD(net.parameters(), lr=1e-3, momentum=0.9)\n",
    "    history = []\n",
    "    for epoch in range(epochs):\n",
    "        start = time.time()\n",
    "        running_loss = 0.0\n",
    "        for i,data in enumerate(train_data_loader):\n",
    "            (inputs, labels) = data\n",
    "            inputs = inputs.to(device)\n",
    "            labels = labels.to(device)\n",
    "            optimizer.zero_grad()\n",
    "            outputs = net(inputs)\n",
    "            loss = criterion(outputs, labels)\n",
    "            loss.backward()\n",
    "            optimizer.step()\n",
    "            running_loss += loss.item()\n",
    "            if (i + 1) % 500 == 0:\n",
    "                print(\"\\n[epoch:%d, batch:%5d] loss: %.3f\"% (epoch + 1, i + 1, running_loss / float(500)))\n",
    "                history.append(running_loss/float(500))\n",
    "                running_loss = 0.0\n",
    "        print(\"Estimated time left (hours): %0.2f\"% ((time.time()-start)*(epochs-epoch)/3600))\n",
    "    return history"
   ]
  },
  {
   "cell_type": "code",
   "execution_count": 3,
   "id": "292e9d18",
   "metadata": {},
   "outputs": [
    {
     "name": "stdout",
     "output_type": "stream",
     "text": [
      "cuda:0\n"
     ]
    },
    {
     "ename": "KeyboardInterrupt",
     "evalue": "",
     "output_type": "error",
     "traceback": [
      "\u001b[0;31m---------------------------------------------------------------------------\u001b[0m",
      "\u001b[0;31mKeyboardInterrupt\u001b[0m                         Traceback (most recent call last)",
      "\u001b[0;32m/tmp/ipykernel_15627/3320408812.py\u001b[0m in \u001b[0;36m<module>\u001b[0;34m\u001b[0m\n\u001b[1;32m     15\u001b[0m \u001b[0;34m\u001b[0m\u001b[0m\n\u001b[1;32m     16\u001b[0m \u001b[0mnet\u001b[0m \u001b[0;34m=\u001b[0m \u001b[0mmynet\u001b[0m\u001b[0;34m(\u001b[0m\u001b[0;36m1\u001b[0m\u001b[0;34m)\u001b[0m\u001b[0;34m\u001b[0m\u001b[0;34m\u001b[0m\u001b[0m\n\u001b[0;32m---> 17\u001b[0;31m \u001b[0mhistory_net1\u001b[0m \u001b[0;34m=\u001b[0m \u001b[0mrun_code_for_training\u001b[0m\u001b[0;34m(\u001b[0m\u001b[0mnet\u001b[0m\u001b[0;34m,\u001b[0m\u001b[0mTrainDataLoader\u001b[0m\u001b[0;34m)\u001b[0m\u001b[0;34m\u001b[0m\u001b[0;34m\u001b[0m\u001b[0m\n\u001b[0m\u001b[1;32m     18\u001b[0m \u001b[0mtorch\u001b[0m\u001b[0;34m.\u001b[0m\u001b[0msave\u001b[0m\u001b[0;34m(\u001b[0m\u001b[0mnet\u001b[0m\u001b[0;34m,\u001b[0m \u001b[0;34m\"../saves/net1.pth\"\u001b[0m\u001b[0;34m)\u001b[0m\u001b[0;34m\u001b[0m\u001b[0;34m\u001b[0m\u001b[0m\n\u001b[1;32m     19\u001b[0m \u001b[0mnet\u001b[0m \u001b[0;34m=\u001b[0m \u001b[0mmynet\u001b[0m\u001b[0;34m(\u001b[0m\u001b[0;36m2\u001b[0m\u001b[0;34m)\u001b[0m\u001b[0;34m\u001b[0m\u001b[0;34m\u001b[0m\u001b[0m\n",
      "\u001b[0;32m/tmp/ipykernel_15627/2562911751.py\u001b[0m in \u001b[0;36mrun_code_for_training\u001b[0;34m(net, train_data_loader)\u001b[0m\n\u001b[1;32m     16\u001b[0m             \u001b[0mloss\u001b[0m\u001b[0;34m.\u001b[0m\u001b[0mbackward\u001b[0m\u001b[0;34m(\u001b[0m\u001b[0;34m)\u001b[0m\u001b[0;34m\u001b[0m\u001b[0;34m\u001b[0m\u001b[0m\n\u001b[1;32m     17\u001b[0m             \u001b[0moptimizer\u001b[0m\u001b[0;34m.\u001b[0m\u001b[0mstep\u001b[0m\u001b[0;34m(\u001b[0m\u001b[0;34m)\u001b[0m\u001b[0;34m\u001b[0m\u001b[0;34m\u001b[0m\u001b[0m\n\u001b[0;32m---> 18\u001b[0;31m             \u001b[0mrunning_loss\u001b[0m \u001b[0;34m+=\u001b[0m \u001b[0mloss\u001b[0m\u001b[0;34m.\u001b[0m\u001b[0mitem\u001b[0m\u001b[0;34m(\u001b[0m\u001b[0;34m)\u001b[0m\u001b[0;34m\u001b[0m\u001b[0;34m\u001b[0m\u001b[0m\n\u001b[0m\u001b[1;32m     19\u001b[0m             \u001b[0;32mif\u001b[0m \u001b[0;34m(\u001b[0m\u001b[0mi\u001b[0m \u001b[0;34m+\u001b[0m \u001b[0;36m1\u001b[0m\u001b[0;34m)\u001b[0m \u001b[0;34m%\u001b[0m \u001b[0;36m500\u001b[0m \u001b[0;34m==\u001b[0m \u001b[0;36m0\u001b[0m\u001b[0;34m:\u001b[0m\u001b[0;34m\u001b[0m\u001b[0;34m\u001b[0m\u001b[0m\n\u001b[1;32m     20\u001b[0m                 \u001b[0mprint\u001b[0m\u001b[0;34m(\u001b[0m\u001b[0;34m\"\\n[epoch:%d, batch:%5d] loss: %.3f\"\u001b[0m\u001b[0;34m%\u001b[0m \u001b[0;34m(\u001b[0m\u001b[0mepoch\u001b[0m \u001b[0;34m+\u001b[0m \u001b[0;36m1\u001b[0m\u001b[0;34m,\u001b[0m \u001b[0mi\u001b[0m \u001b[0;34m+\u001b[0m \u001b[0;36m1\u001b[0m\u001b[0;34m,\u001b[0m \u001b[0mrunning_loss\u001b[0m \u001b[0;34m/\u001b[0m \u001b[0mfloat\u001b[0m\u001b[0;34m(\u001b[0m\u001b[0;36m500\u001b[0m\u001b[0;34m)\u001b[0m\u001b[0;34m)\u001b[0m\u001b[0;34m)\u001b[0m\u001b[0;34m\u001b[0m\u001b[0;34m\u001b[0m\u001b[0m\n",
      "\u001b[0;31mKeyboardInterrupt\u001b[0m: "
     ]
    }
   ],
   "source": [
    "if torch.cuda.is_available():\n",
    "    device = torch.device(\"cuda:0\")\n",
    "else:\n",
    "    device = torch.device(\"cpu\")\n",
    "\n",
    "print(device)\n",
    "\n",
    "batch=64\n",
    "epochs = 50\n",
    "dataPath = \"../hw04_coco_data/Train\"\n",
    "transform = tvt.Compose([tvt.ToTensor(), tvt.Normalize((0.5,0.5, 0.5), (0.5, 0.5, 0.5))])            \n",
    "           \n",
    "dt = dataLoader(dataPath,[\"refrigerator\",\"airplane\",\"giraffe\",\"cat\",\"elephant\",\"dog\",\"train\",\"horse\",\"boat\",\"truck\"],transform)\n",
    "TrainDataLoader = DataLoader(dataset = dt, batch_size = batch, shuffle = True, num_workers = 16)\n",
    "\n",
    "net = mynet(1)     \n",
    "history_net1 = run_code_for_training(net,TrainDataLoader)\n",
    "torch.save(net, \"../saves/net1.pth\") \n",
    "net = mynet(2)     \n",
    "history_net2 = run_code_for_training(net,TrainDataLoader)\n",
    "torch.save(net, \"../saves/net2.pth\") \n",
    "net = mynet(3)     \n",
    "history_net3 = run_code_for_training(net,TrainDataLoader)\n",
    "torch.save(net, \"../saves/net3.pth\") "
   ]
  },
  {
   "cell_type": "markdown",
   "id": "02c4230a",
   "metadata": {},
   "source": [
    "# "
   ]
  },
  {
   "cell_type": "code",
   "execution_count": null,
   "id": "39d78dff",
   "metadata": {},
   "outputs": [],
   "source": [
    "plt.plot(history_net1, label=\"Net:Task 1\")\n",
    "plt.plot(history_net2, label=\"Net:Task 2\")\n",
    "plt.plot(history_net3, label=\"Net:Task 3\")\n",
    "plt.xlabel(\"Epoch\")\n",
    "plt.ylabel(\"Loss\")\n",
    "plt.title(\"Loss for the three Nets\")\n",
    "plt.legend()\n",
    "plt.savefig(\"../saves/train_loss.png\")"
   ]
  },
  {
   "cell_type": "code",
   "execution_count": null,
   "id": "42c14f8f",
   "metadata": {},
   "outputs": [],
   "source": [
    "# save loss history\n",
    "losses_hist = [history_net1,history_net2,history_net3]\n",
    "with open(\"../saves/losses_hist.pickle\", 'wb') as f:\n",
    "    pickle.dump(losses_hist, f)"
   ]
  }
 ],
 "metadata": {
  "kernelspec": {
   "display_name": "Python 3 (ipykernel)",
   "language": "python",
   "name": "python3"
  },
  "language_info": {
   "codemirror_mode": {
    "name": "ipython",
    "version": 3
   },
   "file_extension": ".py",
   "mimetype": "text/x-python",
   "name": "python",
   "nbconvert_exporter": "python",
   "pygments_lexer": "ipython3",
   "version": "3.7.11"
  }
 },
 "nbformat": 4,
 "nbformat_minor": 5
}
